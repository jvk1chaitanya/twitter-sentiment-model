{
 "cells": [
  {
   "cell_type": "markdown",
   "id": "0e0fc6d7",
   "metadata": {
    "papermill": {
     "duration": 0.010572,
     "end_time": "2023-02-17T13:30:38.491781",
     "exception": false,
     "start_time": "2023-02-17T13:30:38.481209",
     "status": "completed"
    },
    "tags": []
   },
   "source": [
    "# Libraries Used\n",
    "\n",
    "**Pandas** - Pandas is an open-source Python library used for data manipulation and analysis. It provides tools for reading and writing data in various formats (e.g., CSV, Excel, SQL databases), cleaning and transforming data, and performing statistical and time-series analysis.\n",
    "\n",
    "**Numpy** - NumPy is a Python library for scientific computing that provides support for large, multi-dimensional arrays and matrices, as well as a large collection of high-level mathematical functions to operate on these arrays. NumPy is built on top of the C programming language, which makes it fast and efficient for numerical computations.\n",
    "\n",
    "**Matplotlib** - Matplotlib is a Python library for creating static, animated, and interactive visualizations in Python. It provides a wide range of tools for creating high-quality plots, charts, and other data visualizations, with support for a variety of 2D and 3D plot type\n",
    "\n",
    "**Beautiful Soup** - Beautiful Soup is a Python library used for web scraping, which is the process of extracting data from websites. It provides tools for parsing HTML and XML documents and extracting useful information from them.\n",
    "\n",
    "**NLTK** - NLTK (Natural Language Toolkit) is a Python library used for natural language processing (NLP) tasks such as text processing, tokenization, part-of-speech tagging, and parsing. NLTK provides a set of tools and resources for working with human language data\n",
    "\n",
    "**Re** - re (short for regular expression) is a Python module used for working with regular expressions, which are patterns used to match and manipulate text. Regular expressions can be used to search, replace, and extract information from strings of text.\n",
    "\n",
    "**Tensorflow** - TensorFlow is an open-source machine learning framework developed by Google that is used to build and train machine learning models. It is designed to make it easier for developers to create and deploy machine learning models for a variety of applications.\n"
   ]
  },
  {
   "cell_type": "code",
   "execution_count": 1,
   "id": "3affa39b",
   "metadata": {
    "execution": {
     "iopub.execute_input": "2023-02-17T13:30:38.512302Z",
     "iopub.status.busy": "2023-02-17T13:30:38.511667Z",
     "iopub.status.idle": "2023-02-17T13:30:47.414326Z",
     "shell.execute_reply": "2023-02-17T13:30:47.413099Z"
    },
    "papermill": {
     "duration": 8.916131,
     "end_time": "2023-02-17T13:30:47.417203",
     "exception": false,
     "start_time": "2023-02-17T13:30:38.501072",
     "status": "completed"
    },
    "tags": []
   },
   "outputs": [
    {
     "name": "stderr",
     "output_type": "stream",
     "text": [
      "[nltk_data] Downloading package omw-1.4 to /usr/share/nltk_data...\n"
     ]
    }
   ],
   "source": [
    "# Import Required libraries\n",
    "import pandas as pd\n",
    "import numpy as np\n",
    "from bs4 import BeautifulSoup \n",
    "import re\n",
    "import nltk\n",
    "nltk.download('omw-1.4')\n",
    "from nltk.corpus import stopwords\n",
    "from nltk.stem import WordNetLemmatizer\n",
    "import matplotlib.pyplot as plt\n",
    "import seaborn as sns\n",
    "from keras.preprocessing.text import Tokenizer\n",
    "from keras.preprocessing.sequence import pad_sequences\n",
    "from sklearn.model_selection import train_test_split\n",
    "from tensorflow.keras.models import Sequential\n",
    "from tensorflow.keras.layers import Dense, BatchNormalization, SpatialDropout1D, Embedding, LSTM\n",
    "from tensorflow.keras.callbacks import ModelCheckpoint, EarlyStopping"
   ]
  },
  {
   "cell_type": "code",
   "execution_count": 2,
   "id": "49acc607",
   "metadata": {
    "execution": {
     "iopub.execute_input": "2023-02-17T13:30:47.438750Z",
     "iopub.status.busy": "2023-02-17T13:30:47.437035Z",
     "iopub.status.idle": "2023-02-17T13:30:47.808811Z",
     "shell.execute_reply": "2023-02-17T13:30:47.807693Z"
    },
    "papermill": {
     "duration": 0.384635,
     "end_time": "2023-02-17T13:30:47.811286",
     "exception": false,
     "start_time": "2023-02-17T13:30:47.426651",
     "status": "completed"
    },
    "tags": []
   },
   "outputs": [
    {
     "data": {
      "text/html": [
       "<div>\n",
       "<style scoped>\n",
       "    .dataframe tbody tr th:only-of-type {\n",
       "        vertical-align: middle;\n",
       "    }\n",
       "\n",
       "    .dataframe tbody tr th {\n",
       "        vertical-align: top;\n",
       "    }\n",
       "\n",
       "    .dataframe thead th {\n",
       "        text-align: right;\n",
       "    }\n",
       "</style>\n",
       "<table border=\"1\" class=\"dataframe\">\n",
       "  <thead>\n",
       "    <tr style=\"text-align: right;\">\n",
       "      <th></th>\n",
       "      <th>0</th>\n",
       "      <th>1</th>\n",
       "      <th>2</th>\n",
       "      <th>3</th>\n",
       "    </tr>\n",
       "  </thead>\n",
       "  <tbody>\n",
       "    <tr>\n",
       "      <th>0</th>\n",
       "      <td>2401</td>\n",
       "      <td>Borderlands</td>\n",
       "      <td>Positive</td>\n",
       "      <td>im getting on borderlands and i will murder yo...</td>\n",
       "    </tr>\n",
       "    <tr>\n",
       "      <th>1</th>\n",
       "      <td>2401</td>\n",
       "      <td>Borderlands</td>\n",
       "      <td>Positive</td>\n",
       "      <td>I am coming to the borders and I will kill you...</td>\n",
       "    </tr>\n",
       "    <tr>\n",
       "      <th>2</th>\n",
       "      <td>2401</td>\n",
       "      <td>Borderlands</td>\n",
       "      <td>Positive</td>\n",
       "      <td>im getting on borderlands and i will kill you ...</td>\n",
       "    </tr>\n",
       "    <tr>\n",
       "      <th>3</th>\n",
       "      <td>2401</td>\n",
       "      <td>Borderlands</td>\n",
       "      <td>Positive</td>\n",
       "      <td>im coming on borderlands and i will murder you...</td>\n",
       "    </tr>\n",
       "    <tr>\n",
       "      <th>4</th>\n",
       "      <td>2401</td>\n",
       "      <td>Borderlands</td>\n",
       "      <td>Positive</td>\n",
       "      <td>im getting on borderlands 2 and i will murder ...</td>\n",
       "    </tr>\n",
       "  </tbody>\n",
       "</table>\n",
       "</div>"
      ],
      "text/plain": [
       "      0            1         2  \\\n",
       "0  2401  Borderlands  Positive   \n",
       "1  2401  Borderlands  Positive   \n",
       "2  2401  Borderlands  Positive   \n",
       "3  2401  Borderlands  Positive   \n",
       "4  2401  Borderlands  Positive   \n",
       "\n",
       "                                                   3  \n",
       "0  im getting on borderlands and i will murder yo...  \n",
       "1  I am coming to the borders and I will kill you...  \n",
       "2  im getting on borderlands and i will kill you ...  \n",
       "3  im coming on borderlands and i will murder you...  \n",
       "4  im getting on borderlands 2 and i will murder ...  "
      ]
     },
     "execution_count": 2,
     "metadata": {},
     "output_type": "execute_result"
    }
   ],
   "source": [
    "# read training data\n",
    "data = pd.read_csv('/kaggle/input/twitter-entity-sentiment-analysis/twitter_training.csv',header=None)\n",
    "data.head()"
   ]
  },
  {
   "cell_type": "markdown",
   "id": "bafb69c0",
   "metadata": {
    "papermill": {
     "duration": 0.009163,
     "end_time": "2023-02-17T13:30:47.829948",
     "exception": false,
     "start_time": "2023-02-17T13:30:47.820785",
     "status": "completed"
    },
    "tags": []
   },
   "source": [
    "# Manipulating the dataframe\n",
    "\n",
    "Here we are checking the data and manupualating it to suit our requirements (removing unwanted columns, removing null rows etc)"
   ]
  },
  {
   "cell_type": "code",
   "execution_count": 3,
   "id": "8bdb2e1e",
   "metadata": {
    "execution": {
     "iopub.execute_input": "2023-02-17T13:30:47.851126Z",
     "iopub.status.busy": "2023-02-17T13:30:47.850437Z",
     "iopub.status.idle": "2023-02-17T13:30:47.871272Z",
     "shell.execute_reply": "2023-02-17T13:30:47.870228Z"
    },
    "papermill": {
     "duration": 0.033945,
     "end_time": "2023-02-17T13:30:47.873834",
     "exception": false,
     "start_time": "2023-02-17T13:30:47.839889",
     "status": "completed"
    },
    "tags": []
   },
   "outputs": [
    {
     "data": {
      "text/plain": [
       "0      0\n",
       "1      0\n",
       "2      0\n",
       "3    686\n",
       "dtype: int64"
      ]
     },
     "execution_count": 3,
     "metadata": {},
     "output_type": "execute_result"
    }
   ],
   "source": [
    "# Finding total null values and deleting them\n",
    "data.isna().sum()"
   ]
  },
  {
   "cell_type": "code",
   "execution_count": 4,
   "id": "222688b4",
   "metadata": {
    "execution": {
     "iopub.execute_input": "2023-02-17T13:30:47.896548Z",
     "iopub.status.busy": "2023-02-17T13:30:47.895740Z",
     "iopub.status.idle": "2023-02-17T13:30:47.927080Z",
     "shell.execute_reply": "2023-02-17T13:30:47.925936Z"
    },
    "papermill": {
     "duration": 0.045899,
     "end_time": "2023-02-17T13:30:47.929488",
     "exception": false,
     "start_time": "2023-02-17T13:30:47.883589",
     "status": "completed"
    },
    "tags": []
   },
   "outputs": [
    {
     "data": {
      "text/plain": [
       "(73996, 4)"
      ]
     },
     "execution_count": 4,
     "metadata": {},
     "output_type": "execute_result"
    }
   ],
   "source": [
    "data.dropna(inplace=True)\n",
    "data.shape"
   ]
  },
  {
   "cell_type": "code",
   "execution_count": 5,
   "id": "3980b5f7",
   "metadata": {
    "execution": {
     "iopub.execute_input": "2023-02-17T13:30:47.950970Z",
     "iopub.status.busy": "2023-02-17T13:30:47.950524Z",
     "iopub.status.idle": "2023-02-17T13:30:47.965510Z",
     "shell.execute_reply": "2023-02-17T13:30:47.964560Z"
    },
    "papermill": {
     "duration": 0.028392,
     "end_time": "2023-02-17T13:30:47.967688",
     "exception": false,
     "start_time": "2023-02-17T13:30:47.939296",
     "status": "completed"
    },
    "tags": []
   },
   "outputs": [
    {
     "data": {
      "text/plain": [
       "Negative      22358\n",
       "Positive      20655\n",
       "Neutral       18108\n",
       "Irrelevant    12875\n",
       "Name: 2, dtype: int64"
      ]
     },
     "execution_count": 5,
     "metadata": {},
     "output_type": "execute_result"
    }
   ],
   "source": [
    "# Finding value count of each response in column 2\n",
    "data[2].value_counts()"
   ]
  },
  {
   "cell_type": "code",
   "execution_count": 6,
   "id": "b10ac579",
   "metadata": {
    "execution": {
     "iopub.execute_input": "2023-02-17T13:30:47.989366Z",
     "iopub.status.busy": "2023-02-17T13:30:47.988943Z",
     "iopub.status.idle": "2023-02-17T13:30:48.009075Z",
     "shell.execute_reply": "2023-02-17T13:30:48.007772Z"
    },
    "papermill": {
     "duration": 0.033912,
     "end_time": "2023-02-17T13:30:48.011785",
     "exception": false,
     "start_time": "2023-02-17T13:30:47.977873",
     "status": "completed"
    },
    "tags": []
   },
   "outputs": [
    {
     "data": {
      "text/plain": [
       "(61121, 4)"
      ]
     },
     "execution_count": 6,
     "metadata": {},
     "output_type": "execute_result"
    }
   ],
   "source": [
    "# Deleting the irrelevent reviews because it will not help to find the sentiment\n",
    "data_2 = data[data[2]!='Irrelevant']\n",
    "data_2.shape"
   ]
  },
  {
   "cell_type": "code",
   "execution_count": 7,
   "id": "1ab660b7",
   "metadata": {
    "execution": {
     "iopub.execute_input": "2023-02-17T13:30:48.033816Z",
     "iopub.status.busy": "2023-02-17T13:30:48.033368Z",
     "iopub.status.idle": "2023-02-17T13:30:48.054690Z",
     "shell.execute_reply": "2023-02-17T13:30:48.053403Z"
    },
    "papermill": {
     "duration": 0.035608,
     "end_time": "2023-02-17T13:30:48.057563",
     "exception": false,
     "start_time": "2023-02-17T13:30:48.021955",
     "status": "completed"
    },
    "tags": []
   },
   "outputs": [
    {
     "name": "stderr",
     "output_type": "stream",
     "text": [
      "/opt/conda/lib/python3.7/site-packages/pandas/core/frame.py:4913: SettingWithCopyWarning: \n",
      "A value is trying to be set on a copy of a slice from a DataFrame\n",
      "\n",
      "See the caveats in the documentation: https://pandas.pydata.org/pandas-docs/stable/user_guide/indexing.html#returning-a-view-versus-a-copy\n",
      "  errors=errors,\n"
     ]
    },
    {
     "data": {
      "text/html": [
       "<div>\n",
       "<style scoped>\n",
       "    .dataframe tbody tr th:only-of-type {\n",
       "        vertical-align: middle;\n",
       "    }\n",
       "\n",
       "    .dataframe tbody tr th {\n",
       "        vertical-align: top;\n",
       "    }\n",
       "\n",
       "    .dataframe thead th {\n",
       "        text-align: right;\n",
       "    }\n",
       "</style>\n",
       "<table border=\"1\" class=\"dataframe\">\n",
       "  <thead>\n",
       "    <tr style=\"text-align: right;\">\n",
       "      <th></th>\n",
       "      <th>2</th>\n",
       "      <th>3</th>\n",
       "    </tr>\n",
       "  </thead>\n",
       "  <tbody>\n",
       "    <tr>\n",
       "      <th>0</th>\n",
       "      <td>Positive</td>\n",
       "      <td>im getting on borderlands and i will murder yo...</td>\n",
       "    </tr>\n",
       "    <tr>\n",
       "      <th>1</th>\n",
       "      <td>Positive</td>\n",
       "      <td>I am coming to the borders and I will kill you...</td>\n",
       "    </tr>\n",
       "    <tr>\n",
       "      <th>2</th>\n",
       "      <td>Positive</td>\n",
       "      <td>im getting on borderlands and i will kill you ...</td>\n",
       "    </tr>\n",
       "    <tr>\n",
       "      <th>3</th>\n",
       "      <td>Positive</td>\n",
       "      <td>im coming on borderlands and i will murder you...</td>\n",
       "    </tr>\n",
       "    <tr>\n",
       "      <th>4</th>\n",
       "      <td>Positive</td>\n",
       "      <td>im getting on borderlands 2 and i will murder ...</td>\n",
       "    </tr>\n",
       "  </tbody>\n",
       "</table>\n",
       "</div>"
      ],
      "text/plain": [
       "          2                                                  3\n",
       "0  Positive  im getting on borderlands and i will murder yo...\n",
       "1  Positive  I am coming to the borders and I will kill you...\n",
       "2  Positive  im getting on borderlands and i will kill you ...\n",
       "3  Positive  im coming on borderlands and i will murder you...\n",
       "4  Positive  im getting on borderlands 2 and i will murder ..."
      ]
     },
     "execution_count": 7,
     "metadata": {},
     "output_type": "execute_result"
    }
   ],
   "source": [
    "# Drop column 0 & 1 for now as it will not be helpful to find sentiment\n",
    "data_2.drop(columns=[0,1],inplace=True)\n",
    "data_2.head()"
   ]
  },
  {
   "cell_type": "code",
   "execution_count": 8,
   "id": "963de3dd",
   "metadata": {
    "execution": {
     "iopub.execute_input": "2023-02-17T13:30:48.080264Z",
     "iopub.status.busy": "2023-02-17T13:30:48.079823Z",
     "iopub.status.idle": "2023-02-17T13:30:48.087510Z",
     "shell.execute_reply": "2023-02-17T13:30:48.086312Z"
    },
    "papermill": {
     "duration": 0.021464,
     "end_time": "2023-02-17T13:30:48.089681",
     "exception": false,
     "start_time": "2023-02-17T13:30:48.068217",
     "status": "completed"
    },
    "tags": []
   },
   "outputs": [
    {
     "data": {
      "text/plain": [
       "'Eli Whitney Roth International is making a movie based loosely on using the game,.. bit. ly / on 2wv4KHM'"
      ]
     },
     "execution_count": 8,
     "metadata": {},
     "output_type": "execute_result"
    }
   ],
   "source": [
    "# Printing a value of new data to check how is sentence defined\n",
    "data_2.iloc[1000,1]"
   ]
  },
  {
   "cell_type": "markdown",
   "id": "8d2b278f",
   "metadata": {
    "papermill": {
     "duration": 0.009795,
     "end_time": "2023-02-17T13:30:48.109770",
     "exception": false,
     "start_time": "2023-02-17T13:30:48.099975",
     "status": "completed"
    },
    "tags": []
   },
   "source": [
    "# Cleaning the data\n",
    "\n",
    "Now we will clean the tweets by removing all unwanted urls, hashtags, mentions, emojis and numbers. We will also lemmatize the words(bringing all the words to root words) and remove unwanted words, that has will not change meaning of the sentance if removed (stopwords)."
   ]
  },
  {
   "cell_type": "code",
   "execution_count": 9,
   "id": "0a5f5a8d",
   "metadata": {
    "execution": {
     "iopub.execute_input": "2023-02-17T13:30:48.132630Z",
     "iopub.status.busy": "2023-02-17T13:30:48.132249Z",
     "iopub.status.idle": "2023-02-17T13:30:48.145522Z",
     "shell.execute_reply": "2023-02-17T13:30:48.144520Z"
    },
    "papermill": {
     "duration": 0.027927,
     "end_time": "2023-02-17T13:30:48.148222",
     "exception": false,
     "start_time": "2023-02-17T13:30:48.120295",
     "status": "completed"
    },
    "tags": []
   },
   "outputs": [],
   "source": [
    "# removing not and no from stop words as we need them for our model training\n",
    "stopwords = stopwords.words(\"english\")\n",
    "stopwords.remove('not')\n",
    "stopwords.remove('no')\n",
    "\n",
    "# intializing method for lemmatizing words\n",
    "lemmatizer = WordNetLemmatizer()\n",
    "\n",
    "# now creating funtion to clean our data\n",
    "def cleaned_review(review):\n",
    "    # remove any html tags\n",
    "    new_review = BeautifulSoup(review).get_text()\n",
    "    \n",
    "    # remove urls from reviews\n",
    "    no_urls = new_review.replace('http\\S+', '').replace('www\\S+', '')\n",
    "    \n",
    "    # remove any non-letters\n",
    "    clean_review = re.sub(\"[^a-zA-Z]\", \" \", no_urls)\n",
    "    \n",
    "    # convert whole sentence to lowercase and split\n",
    "    new_words = clean_review.lower().split()\n",
    "    \n",
    "    # converting stopwords list to set for faster search\n",
    "    stops = set(stopwords)\n",
    "    \n",
    "    # using stopwords to remove irrelavent words and lemmatizing the final output\n",
    "    final_words = [lemmatizer.lemmatize(word) for word in new_words if not word in stops]\n",
    "    \n",
    "    # return the final result\n",
    "    return (\" \".join(final_words))"
   ]
  },
  {
   "cell_type": "code",
   "execution_count": 10,
   "id": "2771d795",
   "metadata": {
    "execution": {
     "iopub.execute_input": "2023-02-17T13:30:48.171231Z",
     "iopub.status.busy": "2023-02-17T13:30:48.170801Z",
     "iopub.status.idle": "2023-02-17T13:31:11.311340Z",
     "shell.execute_reply": "2023-02-17T13:31:11.309783Z"
    },
    "papermill": {
     "duration": 23.155271,
     "end_time": "2023-02-17T13:31:11.314136",
     "exception": false,
     "start_time": "2023-02-17T13:30:48.158865",
     "status": "completed"
    },
    "tags": []
   },
   "outputs": [
    {
     "name": "stderr",
     "output_type": "stream",
     "text": [
      "/opt/conda/lib/python3.7/site-packages/bs4/__init__.py:439: MarkupResemblesLocatorWarning: The input looks more like a filename than markup. You may want to open this file and pass the filehandle into Beautiful Soup.\n",
      "  MarkupResemblesLocatorWarning\n",
      "/opt/conda/lib/python3.7/site-packages/ipykernel_launcher.py:2: SettingWithCopyWarning: \n",
      "A value is trying to be set on a copy of a slice from a DataFrame.\n",
      "Try using .loc[row_indexer,col_indexer] = value instead\n",
      "\n",
      "See the caveats in the documentation: https://pandas.pydata.org/pandas-docs/stable/user_guide/indexing.html#returning-a-view-versus-a-copy\n",
      "  \n"
     ]
    }
   ],
   "source": [
    "# now we will use our funtion to get cleaned data and no. of words\n",
    "data_2['msg'] = data_2[3].apply(lambda x:cleaned_review(x))"
   ]
  },
  {
   "cell_type": "code",
   "execution_count": 11,
   "id": "706e99e2",
   "metadata": {
    "execution": {
     "iopub.execute_input": "2023-02-17T13:31:11.341789Z",
     "iopub.status.busy": "2023-02-17T13:31:11.341327Z",
     "iopub.status.idle": "2023-02-17T13:31:11.347941Z",
     "shell.execute_reply": "2023-02-17T13:31:11.346888Z"
    },
    "papermill": {
     "duration": 0.023725,
     "end_time": "2023-02-17T13:31:11.351768",
     "exception": false,
     "start_time": "2023-02-17T13:31:11.328043",
     "status": "completed"
    },
    "tags": []
   },
   "outputs": [
    {
     "name": "stdout",
     "output_type": "stream",
     "text": [
      "Eli Whitney Roth International is making a movie based loosely on using the game,.. bit. ly / on 2wv4KHM\n",
      "eli whitney roth international making movie based loosely using game bit ly wv khm\n"
     ]
    }
   ],
   "source": [
    "# comparing our cleaned data with original\n",
    "print(data_2.iloc[1000,1])\n",
    "print(data_2.iloc[1000,2])"
   ]
  },
  {
   "cell_type": "markdown",
   "id": "9eb00057",
   "metadata": {
    "papermill": {
     "duration": 0.012473,
     "end_time": "2023-02-17T13:31:11.377916",
     "exception": false,
     "start_time": "2023-02-17T13:31:11.365443",
     "status": "completed"
    },
    "tags": []
   },
   "source": [
    "# Fixing the length of tweet\n",
    "\n",
    "Below is the graph which tells that most of the tweet are around 10-20 words after cleaning and most twwets come under 40 words, so we will fix the number of words in tweet as 40, this will help in padding and tokenization of tweet, further it will also help in fixing input length in embedding layer which is used for training."
   ]
  },
  {
   "cell_type": "code",
   "execution_count": 12,
   "id": "46175409",
   "metadata": {
    "execution": {
     "iopub.execute_input": "2023-02-17T13:31:11.407802Z",
     "iopub.status.busy": "2023-02-17T13:31:11.407302Z",
     "iopub.status.idle": "2023-02-17T13:31:12.507913Z",
     "shell.execute_reply": "2023-02-17T13:31:12.506787Z"
    },
    "papermill": {
     "duration": 1.120337,
     "end_time": "2023-02-17T13:31:12.510553",
     "exception": false,
     "start_time": "2023-02-17T13:31:11.390216",
     "status": "completed"
    },
    "tags": []
   },
   "outputs": [
    {
     "name": "stderr",
     "output_type": "stream",
     "text": [
      "/opt/conda/lib/python3.7/site-packages/ipykernel_launcher.py:5: SettingWithCopyWarning: \n",
      "A value is trying to be set on a copy of a slice from a DataFrame.\n",
      "Try using .loc[row_indexer,col_indexer] = value instead\n",
      "\n",
      "See the caveats in the documentation: https://pandas.pydata.org/pandas-docs/stable/user_guide/indexing.html#returning-a-view-versus-a-copy\n",
      "  \"\"\"\n"
     ]
    },
    {
     "data": {
      "image/png": "[encoded data removed]",
      "text/plain": [
       "<Figure size 1440x864 with 1 Axes>"
      ]
     },
     "metadata": {
      "needs_background": "light"
     },
     "output_type": "display_data"
    }
   ],
   "source": [
    "# Fixing size of the plot\n",
    "fig, ax = plt.subplots(figsize=(20, 12))\n",
    "\n",
    "# Finding ideal length to use for further process\n",
    "data_2['n_words'] = data_2['msg'].apply(lambda x:len(x.split()))\n",
    "sns.histplot(data = data_2, x='n_words')\n",
    "plt.show()"
   ]
  },
  {
   "cell_type": "markdown",
   "id": "19443014",
   "metadata": {
    "papermill": {
     "duration": 0.010559,
     "end_time": "2023-02-17T13:31:12.532014",
     "exception": false,
     "start_time": "2023-02-17T13:31:12.521455",
     "status": "completed"
    },
    "tags": []
   },
   "source": []
  },
  {
   "cell_type": "code",
   "execution_count": 13,
   "id": "d7d287e4",
   "metadata": {
    "execution": {
     "iopub.execute_input": "2023-02-17T13:31:12.555500Z",
     "iopub.status.busy": "2023-02-17T13:31:12.555112Z",
     "iopub.status.idle": "2023-02-17T13:31:12.559758Z",
     "shell.execute_reply": "2023-02-17T13:31:12.558573Z"
    },
    "papermill": {
     "duration": 0.019251,
     "end_time": "2023-02-17T13:31:12.562066",
     "exception": false,
     "start_time": "2023-02-17T13:31:12.542815",
     "status": "completed"
    },
    "tags": []
   },
   "outputs": [],
   "source": [
    "# So we see above that max no.of words in each sentence is 40\n",
    "max_len = 40"
   ]
  },
  {
   "cell_type": "code",
   "execution_count": 14,
   "id": "79a801d2",
   "metadata": {
    "execution": {
     "iopub.execute_input": "2023-02-17T13:31:12.586480Z",
     "iopub.status.busy": "2023-02-17T13:31:12.585477Z",
     "iopub.status.idle": "2023-02-17T13:31:12.609137Z",
     "shell.execute_reply": "2023-02-17T13:31:12.608025Z"
    },
    "papermill": {
     "duration": 0.038239,
     "end_time": "2023-02-17T13:31:12.611591",
     "exception": false,
     "start_time": "2023-02-17T13:31:12.573352",
     "status": "completed"
    },
    "tags": []
   },
   "outputs": [
    {
     "data": {
      "text/html": [
       "<div>\n",
       "<style scoped>\n",
       "    .dataframe tbody tr th:only-of-type {\n",
       "        vertical-align: middle;\n",
       "    }\n",
       "\n",
       "    .dataframe tbody tr th {\n",
       "        vertical-align: top;\n",
       "    }\n",
       "\n",
       "    .dataframe thead th {\n",
       "        text-align: right;\n",
       "    }\n",
       "</style>\n",
       "<table border=\"1\" class=\"dataframe\">\n",
       "  <thead>\n",
       "    <tr style=\"text-align: right;\">\n",
       "      <th></th>\n",
       "      <th>2</th>\n",
       "      <th>3</th>\n",
       "      <th>msg</th>\n",
       "      <th>n_words</th>\n",
       "      <th>Negative</th>\n",
       "      <th>Neutral</th>\n",
       "      <th>Positive</th>\n",
       "    </tr>\n",
       "  </thead>\n",
       "  <tbody>\n",
       "    <tr>\n",
       "      <th>0</th>\n",
       "      <td>Positive</td>\n",
       "      <td>im getting on borderlands and i will murder yo...</td>\n",
       "      <td>im getting borderland murder</td>\n",
       "      <td>4</td>\n",
       "      <td>0</td>\n",
       "      <td>0</td>\n",
       "      <td>1</td>\n",
       "    </tr>\n",
       "    <tr>\n",
       "      <th>1</th>\n",
       "      <td>Positive</td>\n",
       "      <td>I am coming to the borders and I will kill you...</td>\n",
       "      <td>coming border kill</td>\n",
       "      <td>3</td>\n",
       "      <td>0</td>\n",
       "      <td>0</td>\n",
       "      <td>1</td>\n",
       "    </tr>\n",
       "    <tr>\n",
       "      <th>2</th>\n",
       "      <td>Positive</td>\n",
       "      <td>im getting on borderlands and i will kill you ...</td>\n",
       "      <td>im getting borderland kill</td>\n",
       "      <td>4</td>\n",
       "      <td>0</td>\n",
       "      <td>0</td>\n",
       "      <td>1</td>\n",
       "    </tr>\n",
       "    <tr>\n",
       "      <th>3</th>\n",
       "      <td>Positive</td>\n",
       "      <td>im coming on borderlands and i will murder you...</td>\n",
       "      <td>im coming borderland murder</td>\n",
       "      <td>4</td>\n",
       "      <td>0</td>\n",
       "      <td>0</td>\n",
       "      <td>1</td>\n",
       "    </tr>\n",
       "    <tr>\n",
       "      <th>4</th>\n",
       "      <td>Positive</td>\n",
       "      <td>im getting on borderlands 2 and i will murder ...</td>\n",
       "      <td>im getting borderland murder</td>\n",
       "      <td>4</td>\n",
       "      <td>0</td>\n",
       "      <td>0</td>\n",
       "      <td>1</td>\n",
       "    </tr>\n",
       "  </tbody>\n",
       "</table>\n",
       "</div>"
      ],
      "text/plain": [
       "          2                                                  3  \\\n",
       "0  Positive  im getting on borderlands and i will murder yo...   \n",
       "1  Positive  I am coming to the borders and I will kill you...   \n",
       "2  Positive  im getting on borderlands and i will kill you ...   \n",
       "3  Positive  im coming on borderlands and i will murder you...   \n",
       "4  Positive  im getting on borderlands 2 and i will murder ...   \n",
       "\n",
       "                            msg  n_words  Negative  Neutral  Positive  \n",
       "0  im getting borderland murder        4         0        0         1  \n",
       "1            coming border kill        3         0        0         1  \n",
       "2    im getting borderland kill        4         0        0         1  \n",
       "3   im coming borderland murder        4         0        0         1  \n",
       "4  im getting borderland murder        4         0        0         1  "
      ]
     },
     "execution_count": 14,
     "metadata": {},
     "output_type": "execute_result"
    }
   ],
   "source": [
    "# Now we need to tokenize the reviews\n",
    "sentiment = pd.get_dummies(data_2[2])\n",
    "data_3 = pd.concat([data_2,sentiment],axis=1)\n",
    "data_3.head()"
   ]
  },
  {
   "cell_type": "code",
   "execution_count": 15,
   "id": "78ff6401",
   "metadata": {
    "execution": {
     "iopub.execute_input": "2023-02-17T13:31:12.636093Z",
     "iopub.status.busy": "2023-02-17T13:31:12.635327Z",
     "iopub.status.idle": "2023-02-17T13:31:12.652402Z",
     "shell.execute_reply": "2023-02-17T13:31:12.651211Z"
    },
    "papermill": {
     "duration": 0.032409,
     "end_time": "2023-02-17T13:31:12.655191",
     "exception": false,
     "start_time": "2023-02-17T13:31:12.622782",
     "status": "completed"
    },
    "tags": []
   },
   "outputs": [],
   "source": [
    "# Drop columns no longer needed \n",
    "data_3.drop(columns=[2,3,'n_words'],inplace=True)"
   ]
  },
  {
   "cell_type": "markdown",
   "id": "5ae77411",
   "metadata": {
    "papermill": {
     "duration": 0.011321,
     "end_time": "2023-02-17T13:31:12.677783",
     "exception": false,
     "start_time": "2023-02-17T13:31:12.666462",
     "status": "completed"
    },
    "tags": []
   },
   "source": [
    "# Tokenizing and padding\n",
    "\n",
    "Now we will tokenize the words, it means we will conver the words into numbers as machine learning models does not understand string values, and we will pad the resultant tokenzied words to bring all the tokenized words to same length of 40 words."
   ]
  },
  {
   "cell_type": "code",
   "execution_count": 16,
   "id": "2b4acba5",
   "metadata": {
    "execution": {
     "iopub.execute_input": "2023-02-17T13:31:12.701907Z",
     "iopub.status.busy": "2023-02-17T13:31:12.701426Z",
     "iopub.status.idle": "2023-02-17T13:31:14.917422Z",
     "shell.execute_reply": "2023-02-17T13:31:14.915931Z"
    },
    "papermill": {
     "duration": 2.231477,
     "end_time": "2023-02-17T13:31:14.920494",
     "exception": false,
     "start_time": "2023-02-17T13:31:12.689017",
     "status": "completed"
    },
    "tags": []
   },
   "outputs": [
    {
     "name": "stdout",
     "output_type": "stream",
     "text": [
      "Found 23091 unique tokens.\n"
     ]
    }
   ],
   "source": [
    "# now we will tokenize the words to sequence so that our model can understand\n",
    "# we will also pad the sentences with less than 40 words to make size of each sentence equal\n",
    "tokenizer = Tokenizer()\n",
    "tokenizer.fit_on_texts(data_3['msg'].values)\n",
    "sequences = tokenizer.texts_to_sequences(data_3['msg'].values)\n",
    "word_index = tokenizer.word_index\n",
    "print('Found %s unique tokens.' % len(word_index))\n",
    "X = pad_sequences(sequences, maxlen=max_len, padding='post')"
   ]
  },
  {
   "cell_type": "code",
   "execution_count": 17,
   "id": "0e8038ca",
   "metadata": {
    "execution": {
     "iopub.execute_input": "2023-02-17T13:31:14.946029Z",
     "iopub.status.busy": "2023-02-17T13:31:14.945577Z",
     "iopub.status.idle": "2023-02-17T13:31:14.953824Z",
     "shell.execute_reply": "2023-02-17T13:31:14.952892Z"
    },
    "papermill": {
     "duration": 0.023467,
     "end_time": "2023-02-17T13:31:14.956112",
     "exception": false,
     "start_time": "2023-02-17T13:31:14.932645",
     "status": "completed"
    },
    "tags": []
   },
   "outputs": [
    {
     "data": {
      "text/plain": [
       "array([ 2107, 18661,  4716,  1599,   227,   495,   371, 17624,   298,\n",
       "           1,   179,   192,  4724,  7703,     0,     0,     0,     0,\n",
       "           0,     0,     0,     0,     0,     0,     0,     0,     0,\n",
       "           0,     0,     0,     0,     0,     0,     0,     0,     0,\n",
       "           0,     0,     0,     0], dtype=int32)"
      ]
     },
     "execution_count": 17,
     "metadata": {},
     "output_type": "execute_result"
    }
   ],
   "source": [
    "# Lets see how is our output\n",
    "# Here 0's at ending are defined due to the padding\n",
    "X[1000]"
   ]
  },
  {
   "cell_type": "code",
   "execution_count": 18,
   "id": "c7904a54",
   "metadata": {
    "execution": {
     "iopub.execute_input": "2023-02-17T13:31:14.981189Z",
     "iopub.status.busy": "2023-02-17T13:31:14.980735Z",
     "iopub.status.idle": "2023-02-17T13:31:14.989677Z",
     "shell.execute_reply": "2023-02-17T13:31:14.988433Z"
    },
    "papermill": {
     "duration": 0.024346,
     "end_time": "2023-02-17T13:31:14.991942",
     "exception": false,
     "start_time": "2023-02-17T13:31:14.967596",
     "status": "completed"
    },
    "tags": []
   },
   "outputs": [
    {
     "data": {
      "text/plain": [
       "(61121, 3)"
      ]
     },
     "execution_count": 18,
     "metadata": {},
     "output_type": "execute_result"
    }
   ],
   "source": [
    "# for target we will take postive, negative and neutral columns from data_3\n",
    "y=data_3[['Negative','Neutral','Positive']]\n",
    "y.shape"
   ]
  },
  {
   "cell_type": "markdown",
   "id": "bca5710c",
   "metadata": {
    "papermill": {
     "duration": 0.010944,
     "end_time": "2023-02-17T13:31:15.014935",
     "exception": false,
     "start_time": "2023-02-17T13:31:15.003991",
     "status": "completed"
    },
    "tags": []
   },
   "source": [
    "# Splitting the data\n",
    "\n",
    "Now we have cleaned the data, its time to split the data as training and testing, training data will help in training of the data and testing will help to validate how good our model is able to perform on new data."
   ]
  },
  {
   "cell_type": "code",
   "execution_count": 19,
   "id": "01098052",
   "metadata": {
    "execution": {
     "iopub.execute_input": "2023-02-17T13:31:15.039639Z",
     "iopub.status.busy": "2023-02-17T13:31:15.039251Z",
     "iopub.status.idle": "2023-02-17T13:31:15.063179Z",
     "shell.execute_reply": "2023-02-17T13:31:15.062086Z"
    },
    "papermill": {
     "duration": 0.039247,
     "end_time": "2023-02-17T13:31:15.065506",
     "exception": false,
     "start_time": "2023-02-17T13:31:15.026259",
     "status": "completed"
    },
    "tags": []
   },
   "outputs": [
    {
     "data": {
      "text/plain": [
       "((60509, 40), (612, 40))"
      ]
     },
     "execution_count": 19,
     "metadata": {},
     "output_type": "execute_result"
    }
   ],
   "source": [
    "# splitting the data for training and testing\n",
    "X_train, X_test, y_train, y_test = train_test_split(X, y, test_size=0.01, random_state=42)\n",
    "X_train.shape,X_test.shape"
   ]
  },
  {
   "cell_type": "markdown",
   "id": "cfe6fc9c",
   "metadata": {
    "papermill": {
     "duration": 0.011074,
     "end_time": "2023-02-17T13:31:15.088373",
     "exception": false,
     "start_time": "2023-02-17T13:31:15.077299",
     "status": "completed"
    },
    "tags": []
   },
   "source": [
    "# Creating our Model\n",
    "\n",
    "Now as our data is ready, it's time to create our model.\n",
    "\n",
    "We are using tensorflow's keras library to build our model. here are the following modules used in creating of our model\n",
    "\n",
    "**Sequential** - \"tensorflow.keras.models.Sequential\" is a class in the TensorFlow Keras API that allows users to create a neural network model by stacking layers sequentially. This means that the output of one layer is fed as input to the next layer.\n",
    "\n",
    "**Embedding** - \"tensorflow.keras.layers.Embedding\" is a layer in the TensorFlow Keras API that is used to create word embeddings for natural language processing tasks. The Embedding layer maps the input sequence of integers to a sequence of dense vectors, where each integer represents the index of a word in a vocabulary.\n",
    "\n",
    "**SpatialDropout1D** - \"tensorflow.keras.layers.SpatialDropout1D\" is a layer in the TensorFlow Keras API that applies a type of dropout regularization to the inputs of a 1D convolutional neural network (CNN) for sequence data, such as text or time series data. Dropout is a technique used to prevent overfitting in neural networks, by randomly dropping out (setting to zero) some of the neurons in a layer during training.\n",
    "\n",
    "**LSTM** - LSTM (Long Short-Term Memory) is a type of recurrent neural network (RNN) layer in TensorFlow that is commonly used for processing sequential data such as text or time series. LSTM is designed to overcome the limitations of traditional RNNs, which have difficulty with long-term dependencies, and are prone to the vanishing gradient problem.\n",
    "\n",
    "**Dense** - \"Dense\" is a type of layer in TensorFlow that is used in neural networks for mapping an input tensor to an output tensor by performing a matrix multiplication and an activation function on the input. The Dense layer is a fully connected layer, meaning that each neuron in the layer is connected to every neuron in the previous layer.\n",
    "\n",
    "**ModelCheckpoint** - \"ModelCheckpoint\" is a callback function in TensorFlow that allows the model to be saved at specified intervals during training. This is useful for long training runs, where the model may need to be saved periodically to avoid losing progress in the event of an interruption.\n",
    "\n",
    "**EarlyStopping** - \"EarlyStopping\" is a callback function in TensorFlow that allows the training of a model to be stopped early based on a specified metric. This can be useful when training a model for a long time, as it allows us to stop training when the performance on a validation set is no longer improving, thus saving time and computational resources."
   ]
  },
  {
   "cell_type": "code",
   "execution_count": 20,
   "id": "98594dc9",
   "metadata": {
    "execution": {
     "iopub.execute_input": "2023-02-17T13:31:15.113039Z",
     "iopub.status.busy": "2023-02-17T13:31:15.112626Z",
     "iopub.status.idle": "2023-02-17T13:31:15.464704Z",
     "shell.execute_reply": "2023-02-17T13:31:15.463312Z"
    },
    "papermill": {
     "duration": 0.367621,
     "end_time": "2023-02-17T13:31:15.467545",
     "exception": false,
     "start_time": "2023-02-17T13:31:15.099924",
     "status": "completed"
    },
    "tags": []
   },
   "outputs": [
    {
     "name": "stderr",
     "output_type": "stream",
     "text": [
      "2023-02-17 13:31:15.153267: I tensorflow/core/common_runtime/process_util.cc:146] Creating new thread pool with default inter op setting: 2. Tune using inter_op_parallelism_threads for best performance.\n"
     ]
    },
    {
     "name": "stdout",
     "output_type": "stream",
     "text": [
      "Model: \"sequential\"\n",
      "_________________________________________________________________\n",
      "Layer (type)                 Output Shape              Param #   \n",
      "=================================================================\n",
      "embedding (Embedding)        (None, 40, 50)            1154600   \n",
      "_________________________________________________________________\n",
      "spatial_dropout1d (SpatialDr (None, 40, 50)            0         \n",
      "_________________________________________________________________\n",
      "lstm (LSTM)                  (None, 100)               60400     \n",
      "_________________________________________________________________\n",
      "dense (Dense)                (None, 50)                5050      \n",
      "_________________________________________________________________\n",
      "dense_1 (Dense)              (None, 25)                1275      \n",
      "_________________________________________________________________\n",
      "dense_2 (Dense)              (None, 3)                 78        \n",
      "=================================================================\n",
      "Total params: 1,221,403\n",
      "Trainable params: 1,221,403\n",
      "Non-trainable params: 0\n",
      "_________________________________________________________________\n",
      "None\n"
     ]
    }
   ],
   "source": [
    "# Here n_most_words = 23091(vocab_size)+1\n",
    "n_most_words = 23092\n",
    "n_dim = 50\n",
    "\n",
    "# Now we create our model\n",
    "model = Sequential()\n",
    "model.add(Embedding(n_most_words,n_dim,input_length = X_train.shape[1]))\n",
    "model.add(SpatialDropout1D(0.25))\n",
    "model.add(LSTM(100,dropout=0.25,recurrent_dropout=0.25))\n",
    "model.add(Dense(50,activation='relu'))\n",
    "model.add(Dense(25,activation='relu'))\n",
    "model.add(Dense(3,activation='softmax'))\n",
    "\n",
    "model.compile(optimizer='adam', loss='categorical_crossentropy', metrics=['acc'])\n",
    "\n",
    "print(model.summary())"
   ]
  },
  {
   "cell_type": "code",
   "execution_count": 21,
   "id": "db94897c",
   "metadata": {
    "execution": {
     "iopub.execute_input": "2023-02-17T13:31:15.492940Z",
     "iopub.status.busy": "2023-02-17T13:31:15.492489Z",
     "iopub.status.idle": "2023-02-17T13:53:56.180754Z",
     "shell.execute_reply": "2023-02-17T13:53:56.178658Z"
    },
    "papermill": {
     "duration": 1360.704471,
     "end_time": "2023-02-17T13:53:56.183833",
     "exception": false,
     "start_time": "2023-02-17T13:31:15.479362",
     "status": "completed"
    },
    "tags": []
   },
   "outputs": [
    {
     "name": "stdout",
     "output_type": "stream",
     "text": [
      "Epoch 1/30\n"
     ]
    },
    {
     "name": "stderr",
     "output_type": "stream",
     "text": [
      "2023-02-17 13:31:15.564263: I tensorflow/compiler/mlir/mlir_graph_optimization_pass.cc:185] None of the MLIR Optimization Passes are enabled (registered 2)\n"
     ]
    },
    {
     "name": "stdout",
     "output_type": "stream",
     "text": [
      "426/426 [==============================] - 90s 201ms/step - loss: 0.9325 - acc: 0.5261 - val_loss: 0.7035 - val_acc: 0.7042\n",
      "Epoch 2/30\n",
      "426/426 [==============================] - 86s 201ms/step - loss: 0.5291 - acc: 0.7949 - val_loss: 0.4302 - val_acc: 0.8400\n",
      "Epoch 3/30\n",
      "426/426 [==============================] - 85s 199ms/step - loss: 0.3569 - acc: 0.8682 - val_loss: 0.3577 - val_acc: 0.8656\n",
      "Epoch 4/30\n",
      "426/426 [==============================] - 84s 197ms/step - loss: 0.2945 - acc: 0.8905 - val_loss: 0.3301 - val_acc: 0.8790\n",
      "Epoch 5/30\n",
      "426/426 [==============================] - 84s 198ms/step - loss: 0.2596 - acc: 0.9012 - val_loss: 0.3219 - val_acc: 0.8790\n",
      "Epoch 6/30\n",
      "426/426 [==============================] - 85s 199ms/step - loss: 0.2354 - acc: 0.9110 - val_loss: 0.3265 - val_acc: 0.8812\n",
      "Epoch 7/30\n",
      "426/426 [==============================] - 84s 197ms/step - loss: 0.2217 - acc: 0.9148 - val_loss: 0.3171 - val_acc: 0.8795\n",
      "Epoch 8/30\n",
      "426/426 [==============================] - 85s 199ms/step - loss: 0.2090 - acc: 0.9172 - val_loss: 0.3180 - val_acc: 0.8863\n",
      "Epoch 9/30\n",
      "426/426 [==============================] - 85s 199ms/step - loss: 0.1947 - acc: 0.9231 - val_loss: 0.3266 - val_acc: 0.8896\n",
      "Epoch 10/30\n",
      "426/426 [==============================] - 84s 198ms/step - loss: 0.1862 - acc: 0.9256 - val_loss: 0.3255 - val_acc: 0.8893\n",
      "Epoch 11/30\n",
      "426/426 [==============================] - 85s 199ms/step - loss: 0.1767 - acc: 0.9298 - val_loss: 0.3043 - val_acc: 0.8941\n",
      "Epoch 12/30\n",
      "426/426 [==============================] - 85s 199ms/step - loss: 0.1698 - acc: 0.9321 - val_loss: 0.3099 - val_acc: 0.8901\n",
      "Epoch 13/30\n",
      "426/426 [==============================] - 84s 198ms/step - loss: 0.1643 - acc: 0.9339 - val_loss: 0.3470 - val_acc: 0.8924\n",
      "Epoch 14/30\n",
      "426/426 [==============================] - 85s 200ms/step - loss: 0.1560 - acc: 0.9365 - val_loss: 0.3361 - val_acc: 0.8889\n",
      "Epoch 15/30\n",
      "426/426 [==============================] - 85s 199ms/step - loss: 0.1518 - acc: 0.9371 - val_loss: 0.3587 - val_acc: 0.8888\n",
      "Epoch 16/30\n",
      "426/426 [==============================] - 85s 199ms/step - loss: 0.1462 - acc: 0.9401 - val_loss: 0.3447 - val_acc: 0.8980\n"
     ]
    }
   ],
   "source": [
    "from keras.callbacks import ModelCheckpoint, EarlyStopping\n",
    "checkpoint = ModelCheckpoint('weights.hdf5', monitor='val_loss', save_best_only=True)\n",
    "early_stop = EarlyStopping(patience=5)\n",
    "model_history = model.fit(X_train,y_train,epochs=30,validation_split = 0.1, batch_size = 128 ,callbacks=[checkpoint,early_stop])"
   ]
  },
  {
   "cell_type": "markdown",
   "id": "4f1ee24f",
   "metadata": {
    "papermill": {
     "duration": 0.428268,
     "end_time": "2023-02-17T13:53:57.043683",
     "exception": false,
     "start_time": "2023-02-17T13:53:56.615415",
     "status": "completed"
    },
    "tags": []
   },
   "source": [
    "# Validating model performance and visualizing it\n",
    "\n",
    "Now our model is trained lets check how it performs on our test data and visualize it in form of graph based on each epoch"
   ]
  },
  {
   "cell_type": "code",
   "execution_count": 22,
   "id": "1e34c626",
   "metadata": {
    "execution": {
     "iopub.execute_input": "2023-02-17T13:53:58.039087Z",
     "iopub.status.busy": "2023-02-17T13:53:58.038242Z",
     "iopub.status.idle": "2023-02-17T13:54:42.010202Z",
     "shell.execute_reply": "2023-02-17T13:54:42.009180Z"
    },
    "papermill": {
     "duration": 44.672771,
     "end_time": "2023-02-17T13:54:42.174110",
     "exception": false,
     "start_time": "2023-02-17T13:53:57.501339",
     "status": "completed"
    },
    "tags": []
   },
   "outputs": [
    {
     "name": "stdout",
     "output_type": "stream",
     "text": [
      "20/20 [==============================] - 1s 31ms/step - loss: 0.2914 - acc: 0.9003\n",
      "Test set\n",
      "  Loss: 0.291\n",
      "  Accuracy: 0.900\n"
     ]
    }
   ],
   "source": [
    "# Checking the model loss and accuracy\n",
    "model.load_weights('weights.hdf5')\n",
    "accr = model.evaluate(X_test,y_test)\n",
    "print('Test set\\n  Loss: {:0.3f}\\n  Accuracy: {:0.3f}'.format(accr[0],accr[1]))"
   ]
  },
  {
   "cell_type": "code",
   "execution_count": 23,
   "id": "a9ac7349",
   "metadata": {
    "execution": {
     "iopub.execute_input": "2023-02-17T13:54:43.040921Z",
     "iopub.status.busy": "2023-02-17T13:54:43.040484Z",
     "iopub.status.idle": "2023-02-17T13:54:43.045968Z",
     "shell.execute_reply": "2023-02-17T13:54:43.044926Z"
    },
    "papermill": {
     "duration": 0.441339,
     "end_time": "2023-02-17T13:54:43.048735",
     "exception": false,
     "start_time": "2023-02-17T13:54:42.607396",
     "status": "completed"
    },
    "tags": []
   },
   "outputs": [],
   "source": [
    "# Visualizing the result \n",
    "acc = model_history.history['acc']\n",
    "val_acc = model_history.history['val_acc']\n",
    "loss = model_history.history['loss']\n",
    "val_loss = model_history.history['val_loss']"
   ]
  },
  {
   "cell_type": "code",
   "execution_count": 24,
   "id": "6665278e",
   "metadata": {
    "execution": {
     "iopub.execute_input": "2023-02-17T13:54:43.972590Z",
     "iopub.status.busy": "2023-02-17T13:54:43.971910Z",
     "iopub.status.idle": "2023-02-17T13:54:44.335624Z",
     "shell.execute_reply": "2023-02-17T13:54:44.334528Z"
    },
    "papermill": {
     "duration": 0.798865,
     "end_time": "2023-02-17T13:54:44.338414",
     "exception": false,
     "start_time": "2023-02-17T13:54:43.539549",
     "status": "completed"
    },
    "tags": []
   },
   "outputs": [
    {
     "data": {
      "image/png": "[encoded data removed]",
      "text/plain": [
       "<Figure size 1368x504 with 2 Axes>"
      ]
     },
     "metadata": {
      "needs_background": "light"
     },
     "output_type": "display_data"
    }
   ],
   "source": [
    "fig, ax = plt.subplots(nrows = 1, ncols = 2, figsize = (19,7))\n",
    "sns.set_style(\"darkgrid\")\n",
    "\n",
    "ax[0].plot(acc, '*-',label = 'Training accuracy')\n",
    "ax[0].plot(val_acc, '*-',label = 'Validation accuracy')\n",
    "ax[0].set_xlabel('Epochs')\n",
    "ax[0].set_ylabel('Accuracy')\n",
    "ax[0].set_title('Epochs & Training Accuracy', fontsize = 17)\n",
    "ax[0].legend(loc='best')\n",
    "\n",
    "\n",
    "ax[1].plot(loss, '*-',label = 'Training loss')\n",
    "ax[1].plot(val_loss, '*-',label = 'Validation loss')\n",
    "ax[1].set_xlabel('Epochs')\n",
    "ax[1].set_ylabel('loss')\n",
    "ax[1].set_title('Epochs & loss', fontsize = 17)\n",
    "ax[1].legend(loc='best')\n",
    "sns.set_style(\"darkgrid\")"
   ]
  },
  {
   "cell_type": "markdown",
   "id": "274c8a81",
   "metadata": {
    "papermill": {
     "duration": 0.433484,
     "end_time": "2023-02-17T13:54:45.203689",
     "exception": false,
     "start_time": "2023-02-17T13:54:44.770205",
     "status": "completed"
    },
    "tags": []
   },
   "source": [
    "# Using our model for real world problem\n",
    "\n",
    "Now we have validated our model and are satisfied with results, lets make use it and see how it performs in real-world problem, we have also created a funtion which takes tweet as input and gives out sentiment of the tweet."
   ]
  },
  {
   "cell_type": "code",
   "execution_count": 25,
   "id": "66244588",
   "metadata": {
    "execution": {
     "iopub.execute_input": "2023-02-17T13:54:46.132943Z",
     "iopub.status.busy": "2023-02-17T13:54:46.132200Z",
     "iopub.status.idle": "2023-02-17T13:54:46.138888Z",
     "shell.execute_reply": "2023-02-17T13:54:46.137550Z"
    },
    "papermill": {
     "duration": 0.444401,
     "end_time": "2023-02-17T13:54:46.141296",
     "exception": false,
     "start_time": "2023-02-17T13:54:45.696895",
     "status": "completed"
    },
    "tags": []
   },
   "outputs": [],
   "source": [
    "# defining funtion to give us prediction of a sentence \n",
    "def find_sentiment(review):\n",
    "    seq = tokenizer.texts_to_sequences(review)\n",
    "    padded = pad_sequences(seq, maxlen=max_len)\n",
    "    pred = model.predict(padded)\n",
    "    label = ['Negative','Neutral','Positive']\n",
    "    return label[np.argmax(pred)]"
   ]
  },
  {
   "cell_type": "code",
   "execution_count": 26,
   "id": "8238d3be",
   "metadata": {
    "execution": {
     "iopub.execute_input": "2023-02-17T13:54:47.013700Z",
     "iopub.status.busy": "2023-02-17T13:54:47.012833Z",
     "iopub.status.idle": "2023-02-17T13:54:47.022291Z",
     "shell.execute_reply": "2023-02-17T13:54:47.021200Z"
    },
    "papermill": {
     "duration": 0.448716,
     "end_time": "2023-02-17T13:54:47.024597",
     "exception": false,
     "start_time": "2023-02-17T13:54:46.575881",
     "status": "completed"
    },
    "tags": []
   },
   "outputs": [
    {
     "data": {
      "text/plain": [
       "0                                                 2578\n",
       "1                                          Borderlands\n",
       "2                                             Negative\n",
       "3    @ EpicGames @ 2K @ Steam Why add a crossplay f...\n",
       "Name: 1004, dtype: object"
      ]
     },
     "execution_count": 26,
     "metadata": {},
     "output_type": "execute_result"
    }
   ],
   "source": [
    "# checking with taining data\n",
    "data.iloc[1000]"
   ]
  },
  {
   "cell_type": "code",
   "execution_count": 27,
   "id": "09ea4448",
   "metadata": {
    "execution": {
     "iopub.execute_input": "2023-02-17T13:54:47.953065Z",
     "iopub.status.busy": "2023-02-17T13:54:47.952306Z",
     "iopub.status.idle": "2023-02-17T13:54:48.415135Z",
     "shell.execute_reply": "2023-02-17T13:54:48.413943Z"
    },
    "papermill": {
     "duration": 0.898346,
     "end_time": "2023-02-17T13:54:48.418634",
     "exception": false,
     "start_time": "2023-02-17T13:54:47.520288",
     "status": "completed"
    },
    "tags": []
   },
   "outputs": [
    {
     "name": "stdout",
     "output_type": "stream",
     "text": [
      "Negative\n"
     ]
    }
   ],
   "source": [
    "# Checking our funtion if it gives out same result as we expect\n",
    "print(find_sentiment([\"@ EpicGames @ 2K @ Steam Why add a crossplay for @ Borderlands 3 if you're not going to make it compatible for the console?\"]))"
   ]
  },
  {
   "cell_type": "code",
   "execution_count": 28,
   "id": "efc250ad",
   "metadata": {
    "execution": {
     "iopub.execute_input": "2023-02-17T13:54:49.354148Z",
     "iopub.status.busy": "2023-02-17T13:54:49.352690Z",
     "iopub.status.idle": "2023-02-17T13:54:49.393256Z",
     "shell.execute_reply": "2023-02-17T13:54:49.392177Z"
    },
    "papermill": {
     "duration": 0.540871,
     "end_time": "2023-02-17T13:54:49.396205",
     "exception": false,
     "start_time": "2023-02-17T13:54:48.855334",
     "status": "completed"
    },
    "tags": []
   },
   "outputs": [
    {
     "data": {
      "text/html": [
       "<div>\n",
       "<style scoped>\n",
       "    .dataframe tbody tr th:only-of-type {\n",
       "        vertical-align: middle;\n",
       "    }\n",
       "\n",
       "    .dataframe tbody tr th {\n",
       "        vertical-align: top;\n",
       "    }\n",
       "\n",
       "    .dataframe thead th {\n",
       "        text-align: right;\n",
       "    }\n",
       "</style>\n",
       "<table border=\"1\" class=\"dataframe\">\n",
       "  <thead>\n",
       "    <tr style=\"text-align: right;\">\n",
       "      <th></th>\n",
       "      <th>0</th>\n",
       "      <th>1</th>\n",
       "      <th>2</th>\n",
       "      <th>3</th>\n",
       "    </tr>\n",
       "  </thead>\n",
       "  <tbody>\n",
       "    <tr>\n",
       "      <th>0</th>\n",
       "      <td>3364</td>\n",
       "      <td>Facebook</td>\n",
       "      <td>Irrelevant</td>\n",
       "      <td>I mentioned on Facebook that I was struggling ...</td>\n",
       "    </tr>\n",
       "    <tr>\n",
       "      <th>1</th>\n",
       "      <td>352</td>\n",
       "      <td>Amazon</td>\n",
       "      <td>Neutral</td>\n",
       "      <td>BBC News - Amazon boss Jeff Bezos rejects clai...</td>\n",
       "    </tr>\n",
       "    <tr>\n",
       "      <th>2</th>\n",
       "      <td>8312</td>\n",
       "      <td>Microsoft</td>\n",
       "      <td>Negative</td>\n",
       "      <td>@Microsoft Why do I pay for WORD when it funct...</td>\n",
       "    </tr>\n",
       "    <tr>\n",
       "      <th>3</th>\n",
       "      <td>4371</td>\n",
       "      <td>CS-GO</td>\n",
       "      <td>Negative</td>\n",
       "      <td>CSGO matchmaking is so full of closet hacking,...</td>\n",
       "    </tr>\n",
       "    <tr>\n",
       "      <th>4</th>\n",
       "      <td>4433</td>\n",
       "      <td>Google</td>\n",
       "      <td>Neutral</td>\n",
       "      <td>Now the President is slapping Americans in the...</td>\n",
       "    </tr>\n",
       "  </tbody>\n",
       "</table>\n",
       "</div>"
      ],
      "text/plain": [
       "      0          1           2  \\\n",
       "0  3364   Facebook  Irrelevant   \n",
       "1   352     Amazon     Neutral   \n",
       "2  8312  Microsoft    Negative   \n",
       "3  4371      CS-GO    Negative   \n",
       "4  4433     Google     Neutral   \n",
       "\n",
       "                                                   3  \n",
       "0  I mentioned on Facebook that I was struggling ...  \n",
       "1  BBC News - Amazon boss Jeff Bezos rejects clai...  \n",
       "2  @Microsoft Why do I pay for WORD when it funct...  \n",
       "3  CSGO matchmaking is so full of closet hacking,...  \n",
       "4  Now the President is slapping Americans in the...  "
      ]
     },
     "execution_count": 28,
     "metadata": {},
     "output_type": "execute_result"
    }
   ],
   "source": [
    "# Now reading a data-frame which has tweets that were not trained on model\n",
    "v_data = pd.read_csv('/kaggle/input/twitter-entity-sentiment-analysis/twitter_validation.csv',header=None)\n",
    "v_data.head()"
   ]
  },
  {
   "cell_type": "code",
   "execution_count": 29,
   "id": "fc720c71",
   "metadata": {
    "execution": {
     "iopub.execute_input": "2023-02-17T13:54:50.263544Z",
     "iopub.status.busy": "2023-02-17T13:54:50.262904Z",
     "iopub.status.idle": "2023-02-17T13:54:50.268861Z",
     "shell.execute_reply": "2023-02-17T13:54:50.267925Z"
    },
    "papermill": {
     "duration": 0.443484,
     "end_time": "2023-02-17T13:54:50.271213",
     "exception": false,
     "start_time": "2023-02-17T13:54:49.827729",
     "status": "completed"
    },
    "tags": []
   },
   "outputs": [],
   "source": [
    "# Removing irrelavent from column 2 as we didnt use those to predict\n",
    "v_data = v_data[v_data[2]!='Irrelevant']"
   ]
  },
  {
   "cell_type": "code",
   "execution_count": 30,
   "id": "fa0833eb",
   "metadata": {
    "execution": {
     "iopub.execute_input": "2023-02-17T13:54:51.150757Z",
     "iopub.status.busy": "2023-02-17T13:54:51.150039Z",
     "iopub.status.idle": "2023-02-17T13:55:48.382201Z",
     "shell.execute_reply": "2023-02-17T13:55:48.380994Z"
    },
    "papermill": {
     "duration": 58.16635,
     "end_time": "2023-02-17T13:55:48.883159",
     "exception": false,
     "start_time": "2023-02-17T13:54:50.716809",
     "status": "completed"
    },
    "tags": []
   },
   "outputs": [
    {
     "data": {
      "text/html": [
       "<div>\n",
       "<style scoped>\n",
       "    .dataframe tbody tr th:only-of-type {\n",
       "        vertical-align: middle;\n",
       "    }\n",
       "\n",
       "    .dataframe tbody tr th {\n",
       "        vertical-align: top;\n",
       "    }\n",
       "\n",
       "    .dataframe thead th {\n",
       "        text-align: right;\n",
       "    }\n",
       "</style>\n",
       "<table border=\"1\" class=\"dataframe\">\n",
       "  <thead>\n",
       "    <tr style=\"text-align: right;\">\n",
       "      <th></th>\n",
       "      <th>0</th>\n",
       "      <th>1</th>\n",
       "      <th>2</th>\n",
       "      <th>3</th>\n",
       "      <th>predicted</th>\n",
       "    </tr>\n",
       "  </thead>\n",
       "  <tbody>\n",
       "    <tr>\n",
       "      <th>1</th>\n",
       "      <td>352</td>\n",
       "      <td>Amazon</td>\n",
       "      <td>Neutral</td>\n",
       "      <td>BBC News - Amazon boss Jeff Bezos rejects clai...</td>\n",
       "      <td>Negative</td>\n",
       "    </tr>\n",
       "    <tr>\n",
       "      <th>2</th>\n",
       "      <td>8312</td>\n",
       "      <td>Microsoft</td>\n",
       "      <td>Negative</td>\n",
       "      <td>@Microsoft Why do I pay for WORD when it funct...</td>\n",
       "      <td>Positive</td>\n",
       "    </tr>\n",
       "    <tr>\n",
       "      <th>3</th>\n",
       "      <td>4371</td>\n",
       "      <td>CS-GO</td>\n",
       "      <td>Negative</td>\n",
       "      <td>CSGO matchmaking is so full of closet hacking,...</td>\n",
       "      <td>Negative</td>\n",
       "    </tr>\n",
       "    <tr>\n",
       "      <th>4</th>\n",
       "      <td>4433</td>\n",
       "      <td>Google</td>\n",
       "      <td>Neutral</td>\n",
       "      <td>Now the President is slapping Americans in the...</td>\n",
       "      <td>Neutral</td>\n",
       "    </tr>\n",
       "    <tr>\n",
       "      <th>5</th>\n",
       "      <td>6273</td>\n",
       "      <td>FIFA</td>\n",
       "      <td>Negative</td>\n",
       "      <td>Hi @EAHelp I’ve had Madeleine McCann in my cel...</td>\n",
       "      <td>Negative</td>\n",
       "    </tr>\n",
       "    <tr>\n",
       "      <th>6</th>\n",
       "      <td>7925</td>\n",
       "      <td>MaddenNFL</td>\n",
       "      <td>Positive</td>\n",
       "      <td>Thank you @EAMaddenNFL!! \\n\\nNew TE Austin Hoo...</td>\n",
       "      <td>Neutral</td>\n",
       "    </tr>\n",
       "    <tr>\n",
       "      <th>7</th>\n",
       "      <td>11332</td>\n",
       "      <td>TomClancysRainbowSix</td>\n",
       "      <td>Positive</td>\n",
       "      <td>Rocket League, Sea of Thieves or Rainbow Six: ...</td>\n",
       "      <td>Neutral</td>\n",
       "    </tr>\n",
       "    <tr>\n",
       "      <th>8</th>\n",
       "      <td>1107</td>\n",
       "      <td>AssassinsCreed</td>\n",
       "      <td>Positive</td>\n",
       "      <td>my ass still knee-deep in Assassins Creed Odys...</td>\n",
       "      <td>Negative</td>\n",
       "    </tr>\n",
       "    <tr>\n",
       "      <th>9</th>\n",
       "      <td>2069</td>\n",
       "      <td>CallOfDuty</td>\n",
       "      <td>Negative</td>\n",
       "      <td>FIX IT JESUS ! Please FIX IT ! What In the wor...</td>\n",
       "      <td>Negative</td>\n",
       "    </tr>\n",
       "    <tr>\n",
       "      <th>10</th>\n",
       "      <td>3185</td>\n",
       "      <td>Dota2</td>\n",
       "      <td>Positive</td>\n",
       "      <td>The professional dota 2 scene is fucking explo...</td>\n",
       "      <td>Positive</td>\n",
       "    </tr>\n",
       "  </tbody>\n",
       "</table>\n",
       "</div>"
      ],
      "text/plain": [
       "        0                     1         2  \\\n",
       "1     352                Amazon   Neutral   \n",
       "2    8312             Microsoft  Negative   \n",
       "3    4371                 CS-GO  Negative   \n",
       "4    4433                Google   Neutral   \n",
       "5    6273                  FIFA  Negative   \n",
       "6    7925             MaddenNFL  Positive   \n",
       "7   11332  TomClancysRainbowSix  Positive   \n",
       "8    1107        AssassinsCreed  Positive   \n",
       "9    2069            CallOfDuty  Negative   \n",
       "10   3185                 Dota2  Positive   \n",
       "\n",
       "                                                    3 predicted  \n",
       "1   BBC News - Amazon boss Jeff Bezos rejects clai...  Negative  \n",
       "2   @Microsoft Why do I pay for WORD when it funct...  Positive  \n",
       "3   CSGO matchmaking is so full of closet hacking,...  Negative  \n",
       "4   Now the President is slapping Americans in the...   Neutral  \n",
       "5   Hi @EAHelp I’ve had Madeleine McCann in my cel...  Negative  \n",
       "6   Thank you @EAMaddenNFL!! \\n\\nNew TE Austin Hoo...   Neutral  \n",
       "7   Rocket League, Sea of Thieves or Rainbow Six: ...   Neutral  \n",
       "8   my ass still knee-deep in Assassins Creed Odys...  Negative  \n",
       "9   FIX IT JESUS ! Please FIX IT ! What In the wor...  Negative  \n",
       "10  The professional dota 2 scene is fucking explo...  Positive  "
      ]
     },
     "execution_count": 30,
     "metadata": {},
     "output_type": "execute_result"
    }
   ],
   "source": [
    "# Finding the final prediction on validation set, final column \"predicted\" is where our models output is stored\n",
    "v_data['predicted'] = v_data[3].apply(lambda x:find_sentiment([x]))\n",
    "v_data.head(10)"
   ]
  },
  {
   "cell_type": "code",
   "execution_count": null,
   "id": "6fe167ba",
   "metadata": {
    "papermill": {
     "duration": 0.437979,
     "end_time": "2023-02-17T13:55:49.762977",
     "exception": false,
     "start_time": "2023-02-17T13:55:49.324998",
     "status": "completed"
    },
    "tags": []
   },
   "outputs": [],
   "source": []
  }
 ],
 "metadata": {
  "kernelspec": {
   "display_name": "Python 3",
   "language": "python",
   "name": "python3"
  },
  "language_info": {
   "codemirror_mode": {
    "name": "ipython",
    "version": 3
   },
   "file_extension": ".py",
   "mimetype": "text/x-python",
   "name": "python",
   "nbconvert_exporter": "python",
   "pygments_lexer": "ipython3",
   "version": "3.7.12"
  },
  "papermill": {
   "default_parameters": {},
   "duration": 1524.64911,
   "end_time": "2023-02-17T13:55:53.192225",
   "environment_variables": {},
   "exception": null,
   "input_path": "__notebook__.ipynb",
   "output_path": "__notebook__.ipynb",
   "parameters": {},
   "start_time": "2023-02-17T13:30:28.543115",
   "version": "2.3.4"
  }
 },
 "nbformat": 4,
 "nbformat_minor": 5
}
